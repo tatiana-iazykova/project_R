{
  "nbformat": 4,
  "nbformat_minor": 0,
  "metadata": {
    "colab": {
      "name": "R project.ipynb",
      "provenance": [],
      "collapsed_sections": [
        "fDnp9ONE66T6",
        "-KXtaXNx6j2C"
      ],
      "authorship_tag": "ABX9TyO2IVi/6+NYgdAg2TaXOFID",
      "include_colab_link": true
    },
    "kernelspec": {
      "name": "python3",
      "display_name": "Python 3"
    },
    "language_info": {
      "name": "python"
    }
  },
  "cells": [
    {
      "cell_type": "markdown",
      "metadata": {
        "id": "view-in-github",
        "colab_type": "text"
      },
      "source": [
        "<a href=\"https://colab.research.google.com/github/tatiana-iazykova/project_R/blob/main/R_project.ipynb\" target=\"_parent\"><img src=\"https://colab.research.google.com/assets/colab-badge.svg\" alt=\"Open In Colab\"/></a>"
      ]
    },
    {
      "cell_type": "markdown",
      "metadata": {
        "id": "fDnp9ONE66T6"
      },
      "source": [
        "# Preparation\n",
        "\n",
        "We download the whole dataset from Kaggle. However, we won't need anything but the texts from there. Every article is in its own `.json` document. So we combine them into one `.csv` file per category so that our work will be easier "
      ]
    },
    {
      "cell_type": "code",
      "metadata": {
        "id": "iUrRWTOQaYHW"
      },
      "source": [
        "%%capture\n",
        "!pip install kaggle"
      ],
      "execution_count": null,
      "outputs": []
    },
    {
      "cell_type": "code",
      "metadata": {
        "id": "aH3-EXCJYZOk"
      },
      "source": [
        "import os\n",
        "os.environ['KAGGLE_CONFIG_DIR'] = \"/content/drive/MyDrive/HSE/Thesis\""
      ],
      "execution_count": null,
      "outputs": []
    },
    {
      "cell_type": "code",
      "metadata": {
        "id": "aTPMABbRZGkq"
      },
      "source": [
        "!kaggle datasets download -d allen-institute-for-ai/CORD-19-research-challenge"
      ],
      "execution_count": null,
      "outputs": []
    },
    {
      "cell_type": "code",
      "metadata": {
        "colab": {
          "base_uri": "https://localhost:8080/"
        },
        "id": "vqDhkihRZKJD",
        "outputId": "5065f11c-2184-40f6-c77a-a287947d267b"
      },
      "source": [
        "!unzip /content/drive/MyDrive/HSE/Thesis/CORD-19-research-challenge.zip -d train"
      ],
      "execution_count": null,
      "outputs": [
        {
          "output_type": "stream",
          "text": [
            "unzip:  cannot find or open /content/drive/MyDrive/HSE/Thesis/CORD-19-research-challenge.zip, /content/drive/MyDrive/HSE/Thesis/CORD-19-research-challenge.zip.zip or /content/drive/MyDrive/HSE/Thesis/CORD-19-research-challenge.zip.ZIP.\n"
          ],
          "name": "stdout"
        }
      ]
    },
    {
      "cell_type": "code",
      "metadata": {
        "colab": {
          "base_uri": "https://localhost:8080/"
        },
        "id": "h4NIX6Y5gOGr",
        "outputId": "a0f42ec8-401c-416f-8d71-6bf2b38726d0"
      },
      "source": [
        "%cd /content/train/document_parses/pmc_json"
      ],
      "execution_count": null,
      "outputs": [
        {
          "output_type": "stream",
          "text": [
            "/content/train/document_parses/pmc_json\n"
          ],
          "name": "stdout"
        }
      ]
    },
    {
      "cell_type": "code",
      "metadata": {
        "id": "FklhCNvKgGRo"
      },
      "source": [
        "def get_json(dir):\n",
        "  df = pd.DataFrame(columns=['text', 'article_id', \"title\"])\n",
        "  for i in tqdm(os.listdir(dir)):\n",
        "    if i.endswith(\".json\"):\n",
        "      with open(i) as f:\n",
        "        data = json.load(f)\n",
        "      text = ''\n",
        "      for l in data['body_text']:\n",
        "        text += l['text'] + ' '\n",
        "      d = {'text': text, 'article_id': data[\"paper_id\"], 'title': data[\"metadata\"]['title']}\n",
        "      df = df.append(d, ignore_index=True)\n",
        "  return df"
      ],
      "execution_count": null,
      "outputs": []
    },
    {
      "cell_type": "code",
      "metadata": {
        "colab": {
          "base_uri": "https://localhost:8080/",
          "height": 67,
          "referenced_widgets": [
            "9ab5bcf04e9a4be19c07d79320b2f2a9",
            "ea99eeab283b4c23a4e54f82024f38e7",
            "d3f7c83406b646219ef2241e490447cc",
            "7a19d4e0cd8f4830b08bf96bad5cd55d",
            "2606d6fa58ba49ca88c6981a1bf7ea33",
            "7a334aed94374a4b8383da35dfd0fd6b",
            "80e8656b61324972898dbb45ac799e21",
            "b769421343ae4bb289b22fc28a6b03ec"
          ]
        },
        "id": "mJPjg9EPTZAj",
        "outputId": "191389d2-e90e-4a10-f569-ec1b529acd3e"
      },
      "source": [
        "df_1 = get_json('.')"
      ],
      "execution_count": null,
      "outputs": [
        {
          "output_type": "display_data",
          "data": {
            "application/vnd.jupyter.widget-view+json": {
              "model_id": "9ab5bcf04e9a4be19c07d79320b2f2a9",
              "version_major": 2,
              "version_minor": 0
            },
            "text/plain": [
              "HBox(children=(FloatProgress(value=0.0, max=126480.0), HTML(value='')))"
            ]
          },
          "metadata": {
            "tags": []
          }
        },
        {
          "output_type": "stream",
          "text": [
            "\n"
          ],
          "name": "stdout"
        }
      ]
    },
    {
      "cell_type": "code",
      "metadata": {
        "id": "ddq0VuXITLic"
      },
      "source": [
        "df_1.to_csv('/content/pmc_json_df.csv', index=False)"
      ],
      "execution_count": null,
      "outputs": []
    },
    {
      "cell_type": "code",
      "metadata": {
        "id": "CuOz8-xn3XXI"
      },
      "source": [
        "df = pd.read_csv('/content/drive/MyDrive/HSE/Thesis/pmc_json_df.csv')"
      ],
      "execution_count": null,
      "outputs": []
    },
    {
      "cell_type": "code",
      "metadata": {
        "id": "8W4Rpaur3uqn"
      },
      "source": [
        "df = df.drop('Unnamed: 0', axis=1)"
      ],
      "execution_count": null,
      "outputs": []
    },
    {
      "cell_type": "code",
      "metadata": {
        "id": "6LWOvWbA32n_"
      },
      "source": [
        "df.to_csv('/content/pmc_json_df.csv', index=False)"
      ],
      "execution_count": null,
      "outputs": []
    },
    {
      "cell_type": "code",
      "metadata": {
        "id": "U1j5Y4A9mosn"
      },
      "source": [
        "!cp -r /content/pmc_json_df.csv /content/drive/MyDrive/HSE/Thesis"
      ],
      "execution_count": null,
      "outputs": []
    },
    {
      "cell_type": "code",
      "metadata": {
        "id": "-CiBaTTZ6qbi"
      },
      "source": [
        "%cd ..\n",
        "%cd /pdf_json"
      ],
      "execution_count": null,
      "outputs": []
    },
    {
      "cell_type": "code",
      "metadata": {
        "colab": {
          "base_uri": "https://localhost:8080/",
          "height": 67,
          "referenced_widgets": [
            "9ab5bcf04e9a4be19c07d79320b2f2a9",
            "ea99eeab283b4c23a4e54f82024f38e7",
            "d3f7c83406b646219ef2241e490447cc",
            "7a19d4e0cd8f4830b08bf96bad5cd55d",
            "2606d6fa58ba49ca88c6981a1bf7ea33",
            "7a334aed94374a4b8383da35dfd0fd6b",
            "80e8656b61324972898dbb45ac799e21",
            "b769421343ae4bb289b22fc28a6b03ec"
          ]
        },
        "id": "CUJbqj1h6nti",
        "outputId": "191389d2-e90e-4a10-f569-ec1b529acd3e"
      },
      "source": [
        "df_2 = get_json('.')"
      ],
      "execution_count": null,
      "outputs": [
        {
          "output_type": "display_data",
          "data": {
            "application/vnd.jupyter.widget-view+json": {
              "model_id": "9ab5bcf04e9a4be19c07d79320b2f2a9",
              "version_major": 2,
              "version_minor": 0
            },
            "text/plain": [
              "HBox(children=(FloatProgress(value=0.0, max=126480.0), HTML(value='')))"
            ]
          },
          "metadata": {
            "tags": []
          }
        },
        {
          "output_type": "stream",
          "text": [
            "\n"
          ],
          "name": "stdout"
        }
      ]
    },
    {
      "cell_type": "code",
      "metadata": {
        "id": "18Hb3b8q6ntl"
      },
      "source": [
        "df_2.to_csv('/content/pdf_json_df.csv', index=False)"
      ],
      "execution_count": null,
      "outputs": []
    },
    {
      "cell_type": "code",
      "metadata": {
        "id": "LqMhqH_q6ntl"
      },
      "source": [
        "df3 = pd.read_csv('/content/drive/MyDrive/HSE/Thesis/pdf_json_df.csv')"
      ],
      "execution_count": null,
      "outputs": []
    },
    {
      "cell_type": "code",
      "metadata": {
        "id": "kB_OPbJG6ntl"
      },
      "source": [
        "df3 = df3.drop('Unnamed: 0', axis=1)"
      ],
      "execution_count": null,
      "outputs": []
    },
    {
      "cell_type": "code",
      "metadata": {
        "id": "ZkeG_l9E6ntl"
      },
      "source": [
        "df3.to_csv('/content/pdf_json_df.csv', index=False)"
      ],
      "execution_count": null,
      "outputs": []
    },
    {
      "cell_type": "code",
      "metadata": {
        "id": "bdg1rmUZ6ntl"
      },
      "source": [
        "!cp -r /content/pdf_json_df.csv /content/drive/MyDrive/HSE/Thesis"
      ],
      "execution_count": null,
      "outputs": []
    },
    {
      "cell_type": "markdown",
      "metadata": {
        "id": "-KXtaXNx6j2C"
      },
      "source": [
        "# Actual work"
      ]
    },
    {
      "cell_type": "markdown",
      "metadata": {
        "id": "gKfXAm9f8-k2"
      },
      "source": [
        "This is an example for the `pmc_json_df.csv` file. The process for `pdf_json_df.csv` is the same."
      ]
    },
    {
      "cell_type": "code",
      "metadata": {
        "id": "AGtE1ecRx0-Z"
      },
      "source": [
        "df = pd.read_csv('pmc_json_df.csv')"
      ],
      "execution_count": null,
      "outputs": []
    },
    {
      "cell_type": "code",
      "metadata": {
        "id": "7s0wGp9bTFKK"
      },
      "source": [
        "df.article_id = df.article_id.astype(\"category\")\n",
        "df.title = df.title.fillna('None')"
      ],
      "execution_count": null,
      "outputs": []
    },
    {
      "cell_type": "code",
      "metadata": {
        "colab": {
          "base_uri": "https://localhost:8080/"
        },
        "id": "tExceTNkyDbF",
        "outputId": "a4fc428e-6488-4342-f707-64e73d761ec3"
      },
      "source": [
        "covid_study = df[df.text.str.contains('corona( |-)?virus|covid-19|SARS-CoV|2019-nCoV|MERS-CoV', case=False)]"
      ],
      "execution_count": null,
      "outputs": [
        {
          "output_type": "stream",
          "text": [
            "/usr/local/lib/python3.7/dist-packages/pandas/core/strings.py:2001: UserWarning: This pattern has match groups. To actually get the groups, use str.extract.\n",
            "  return func(self, *args, **kwargs)\n"
          ],
          "name": "stderr"
        }
      ]
    },
    {
      "cell_type": "code",
      "metadata": {
        "colab": {
          "base_uri": "https://localhost:8080/"
        },
        "id": "zdjIwDOww9co",
        "outputId": "f3493f5c-1b1d-462f-f0e2-7524ce01734f"
      },
      "source": [
        "vaccines = covid_study[covid_study.text.str.contains('vaccin(e|ation)|Pfizer|AstraZeneca|Sputnik( V)?|BioNTech|Sinopharm|Sinovac|Moderna|Covaxin', case=False)]"
      ],
      "execution_count": null,
      "outputs": [
        {
          "output_type": "stream",
          "text": [
            "/usr/local/lib/python3.7/dist-packages/pandas/core/strings.py:2001: UserWarning: This pattern has match groups. To actually get the groups, use str.extract.\n",
            "  return func(self, *args, **kwargs)\n"
          ],
          "name": "stderr"
        }
      ]
    },
    {
      "cell_type": "code",
      "metadata": {
        "colab": {
          "base_uri": "https://localhost:8080/"
        },
        "id": "DHuwM5hV4PCp",
        "outputId": "17122fad-20a3-4998-a0ac-0c7fe4811f73"
      },
      "source": [
        "len(vaccines)"
      ],
      "execution_count": null,
      "outputs": [
        {
          "output_type": "execute_result",
          "data": {
            "text/plain": [
              "35927"
            ]
          },
          "metadata": {
            "tags": []
          },
          "execution_count": 6
        }
      ]
    },
    {
      "cell_type": "code",
      "metadata": {
        "id": "aHiKP6fglqde",
        "colab": {
          "base_uri": "https://localhost:8080/"
        },
        "outputId": "75577036-10ce-4f5a-d0bc-56587cf76b4c"
      },
      "source": [
        "tmp = vaccines[vaccines.text.str.contains('(and so on)|(shouldn\\'t)|(aren\\'t)|(isn\\'t)|(can\\'t)|(ha(ve|s)n\\'t)|(won\\'t)|([^A-z](g|w)onna[^A-z])|([^A-z]gimme[^A-z])|(kung flu)|((China|Asian) virus)|([^A-z]Rona[^A-z])|([^A-z]corona(reezy)?[^A-z-]^(virus))|([^A-z]Coro(ne)?s[^A-z])|(Boomer Remover)|(Senior Deleter)|(Geriatric Dispatcher)|(covid(dy|sky|z))', case=False)]"
      ],
      "execution_count": null,
      "outputs": [
        {
          "output_type": "stream",
          "text": [
            "/usr/local/lib/python3.7/dist-packages/pandas/core/strings.py:2001: UserWarning: This pattern has match groups. To actually get the groups, use str.extract.\n",
            "  return func(self, *args, **kwargs)\n"
          ],
          "name": "stderr"
        }
      ]
    },
    {
      "cell_type": "code",
      "metadata": {
        "colab": {
          "base_uri": "https://localhost:8080/"
        },
        "id": "n0xxTV7Vc0hg",
        "outputId": "627e96a6-6f47-4f0b-b173-2c5019948a30"
      },
      "source": [
        "len(tmp)"
      ],
      "execution_count": null,
      "outputs": [
        {
          "output_type": "execute_result",
          "data": {
            "text/plain": [
              "2190"
            ]
          },
          "metadata": {
            "tags": []
          },
          "execution_count": 8
        }
      ]
    },
    {
      "cell_type": "code",
      "metadata": {
        "id": "0AlyLgYKSfwR"
      },
      "source": [
        "import re\n",
        "def cute_regex(x):\n",
        "  expr = ['and so on', 'aren\\'t','can\\'t','haven\\'t', 'hasn\\'t', 'won\\'t', '[^A-z]gonna[^A-z]', '[^A-z]wonna[^A-z]',\n",
        "          '[^A-z]gimme[^A-z]', 'kung flu', 'China virus', 'Asian virus', 'shouldn\\'t', 'isn\\'t',\n",
        "          '[^A-z]Rona[^A-z]', 'Coronareezy', '[^A-z]corona[^A-z-]',  '[^A-z]Corones[^A-z]', '[^A-z]coros[^A-z]', 'Boomer Remover',\n",
        "          'Senior Deleter', 'Geriatric Dispatcher', 'coviddy', 'covidsky', 'convidz']\n",
        "  res = []\n",
        "  for e in expr:\n",
        "    res.append(re.findall(e, x, flags=re.IGNORECASE))\n",
        "  return [item for sublist in res for item in sublist if item]"
      ],
      "execution_count": null,
      "outputs": []
    },
    {
      "cell_type": "code",
      "metadata": {
        "colab": {
          "base_uri": "https://localhost:8080/"
        },
        "id": "SGFizZt-UdQI",
        "outputId": "7bb54de1-d032-4d8b-8a9d-992c696bcd0a"
      },
      "source": [
        "tmp['contracted'] = tmp.text.apply(cute_regex)"
      ],
      "execution_count": null,
      "outputs": [
        {
          "output_type": "stream",
          "text": [
            "/usr/local/lib/python3.7/dist-packages/ipykernel_launcher.py:1: SettingWithCopyWarning: \n",
            "A value is trying to be set on a copy of a slice from a DataFrame.\n",
            "Try using .loc[row_indexer,col_indexer] = value instead\n",
            "\n",
            "See the caveats in the documentation: https://pandas.pydata.org/pandas-docs/stable/user_guide/indexing.html#returning-a-view-versus-a-copy\n",
            "  \"\"\"Entry point for launching an IPython kernel.\n"
          ],
          "name": "stderr"
        }
      ]
    },
    {
      "cell_type": "code",
      "metadata": {
        "id": "yY7F5e50mjTB"
      },
      "source": [
        "def count_apply(x,y):\n",
        "  f = y.split()\n",
        "  return len(x)/len(f)"
      ],
      "execution_count": null,
      "outputs": []
    },
    {
      "cell_type": "code",
      "metadata": {
        "id": "SrXAvDTToDhz",
        "colab": {
          "base_uri": "https://localhost:8080/"
        },
        "outputId": "757882e8-0a54-4175-889d-888b1e79e607"
      },
      "source": [
        "tmp['count_contr'] = tmp.apply(lambda x: count_apply(x['contracted'], x['text']), axis=1)"
      ],
      "execution_count": null,
      "outputs": [
        {
          "output_type": "stream",
          "text": [
            "/usr/local/lib/python3.7/dist-packages/ipykernel_launcher.py:1: SettingWithCopyWarning: \n",
            "A value is trying to be set on a copy of a slice from a DataFrame.\n",
            "Try using .loc[row_indexer,col_indexer] = value instead\n",
            "\n",
            "See the caveats in the documentation: https://pandas.pydata.org/pandas-docs/stable/user_guide/indexing.html#returning-a-view-versus-a-copy\n",
            "  \"\"\"Entry point for launching an IPython kernel.\n"
          ],
          "name": "stderr"
        }
      ]
    },
    {
      "cell_type": "code",
      "metadata": {
        "id": "b0LVa20MoSBX"
      },
      "source": [
        "tmp = tmp.drop(['article_id', 'title'], axis=1)"
      ],
      "execution_count": null,
      "outputs": []
    },
    {
      "cell_type": "code",
      "metadata": {
        "colab": {
          "base_uri": "https://localhost:8080/"
        },
        "id": "nS_Kew3erfY8",
        "outputId": "66e9645e-0571-4068-86a9-f49186622795"
      },
      "source": [
        "tmp.count_contr.max()"
      ],
      "execution_count": null,
      "outputs": [
        {
          "output_type": "execute_result",
          "data": {
            "text/plain": [
              "0.012029912214154113"
            ]
          },
          "metadata": {
            "tags": []
          },
          "execution_count": 16
        }
      ]
    },
    {
      "cell_type": "code",
      "metadata": {
        "id": "g4i-nOjYofTy"
      },
      "source": [
        "tmp.to_csv('dataset_science_pt1.csv', index=False)"
      ],
      "execution_count": null,
      "outputs": []
    }
  ]
}