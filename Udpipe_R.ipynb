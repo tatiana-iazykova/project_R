{
 "cells": [
  {
   "cell_type": "code",
   "execution_count": 1,
   "metadata": {
    "id": "9Mys8rC5tRFz"
   },
   "outputs": [],
   "source": [
    "import warnings\n",
    "warnings.filterwarnings('ignore')"
   ]
  },
  {
   "cell_type": "code",
   "execution_count": 4,
   "metadata": {
    "id": "Ipfj7UCVtRGE"
   },
   "outputs": [],
   "source": [
    "import ufal.udpipe\n",
    "from model import Model\n",
    "import conllu"
   ]
  },
  {
   "cell_type": "code",
   "execution_count": 5,
   "metadata": {
    "id": "RGwfwxE-tRGH"
   },
   "outputs": [],
   "source": [
    "from collections import defaultdict"
   ]
  },
  {
   "cell_type": "code",
   "execution_count": 7,
   "metadata": {
    "id": "U8jblI7HtRGL"
   },
   "outputs": [],
   "source": [
    "model = Model('english-ewt-ud-2.5-191206.udpipe')"
   ]
  },
  {
   "cell_type": "code",
   "execution_count": 8,
   "metadata": {
    "id": "Q2iY0ysptRGP"
   },
   "outputs": [],
   "source": [
    "def get_conllu(model, text):\n",
    "    sentences = model.tokenize(text)\n",
    "    for s in sentences:\n",
    "        model.tag(s)\n",
    "        model.parse(s)\n",
    "    conllu_text = model.write(sentences, \"conllu\")\n",
    "    return conllu_text"
   ]
  },
  {
   "cell_type": "code",
   "execution_count": 9,
   "metadata": {
    "id": "CYmsqQT49Z3x"
   },
   "outputs": [],
   "source": [
    "import pandas as pd\n",
    "\n",
    "df1 = pd.read_csv('dataset_science_pt2.csv')"
   ]
  },
  {
   "cell_type": "code",
   "execution_count": 10,
   "metadata": {
    "id": "be35kjppAAS_"
   },
   "outputs": [],
   "source": [
    "from nltk.parse import DependencyGraph"
   ]
  },
  {
   "cell_type": "code",
   "execution_count": 11,
   "metadata": {
    "id": "-nM0BN1bAATA"
   },
   "outputs": [],
   "source": [
    "def get_dep_tree(text):\n",
    "    trees = []\n",
    "    for sent in text.split('\\n\\n'):\n",
    "        tree = [line for line in sent.split('\\n') if line and line[0] != '#']\n",
    "        trees.append('\\n'.join(tree))\n",
    "    return trees"
   ]
  },
  {
   "cell_type": "code",
   "execution_count": 12,
   "metadata": {
    "id": "YJu7f-1i9PPT"
   },
   "outputs": [],
   "source": [
    "def parse(text):\n",
    "    a = get_conllu(model, text)\n",
    "    b = get_dep_tree(a)\n",
    "    cnt = 0\n",
    "    for i in range(len(b)):\n",
    "        d = DependencyGraph(b[i])\n",
    "        d.root = d.nodes[0]\n",
    "        dtrip = list(d.triples())\n",
    "        for j in range(len(dtrip)):\n",
    "            if dtrip[j][1] == 'orphan':\n",
    "                cnt += 1\n",
    "    f = len(text.split())\n",
    "    return cnt/f"
   ]
  },
  {
   "cell_type": "code",
   "execution_count": 13,
   "metadata": {
    "colab": {
     "base_uri": "https://localhost:8080/",
     "height": 49,
     "referenced_widgets": [
      "0ffb48d6d8ec42c79d31c0ab840cd5db",
      "4b0ba86413ab4caa8bc2475885853818",
      "ed6013a0a7fb4cd7aff13179a3f612d3",
      "1105035c0968470fb8d069830973d7bd",
      "01647314d3e947e987ad23f3fb5dc9bc",
      "5f3863c6e3614bdcaac9337236172c86",
      "6c75a3363dd743ba8e433b7a23e17f37",
      "58aea649a44e4a15abe4fed68c0a96b9"
     ]
    },
    "id": "z1BKvce4AZfy",
    "outputId": "71e6eec6-f61a-4916-a945-d86c41590da1"
   },
   "outputs": [
    {
     "data": {
      "application/vnd.jupyter.widget-view+json": {
       "model_id": "6700ffe825fe4f26885c3d9d17981215",
       "version_major": 2,
       "version_minor": 0
      },
      "text/plain": [
       "HBox(children=(FloatProgress(value=0.0, max=1060.0), HTML(value='')))"
      ]
     },
     "metadata": {},
     "output_type": "display_data"
    },
    {
     "name": "stdout",
     "output_type": "stream",
     "text": [
      "\n"
     ]
    }
   ],
   "source": [
    "from tqdm.notebook import tqdm\n",
    "tqdm.pandas()\n",
    "df1['elliptical_rate'] = df1.text.progress_apply(parse)"
   ]
  },
  {
   "cell_type": "code",
   "execution_count": 14,
   "metadata": {},
   "outputs": [],
   "source": [
    "df1.to_csv('dataset_science_pt2_ellipse.csv', index=False)"
   ]
  },
  {
   "cell_type": "code",
   "execution_count": 15,
   "metadata": {},
   "outputs": [],
   "source": [
    "df = pd.read_csv('cleaned_dataset_science_pt1.csv')"
   ]
  },
  {
   "cell_type": "code",
   "execution_count": 16,
   "metadata": {},
   "outputs": [
    {
     "data": {
      "application/vnd.jupyter.widget-view+json": {
       "model_id": "b202350acc4d405fbcfd39e7f7d77996",
       "version_major": 2,
       "version_minor": 0
      },
      "text/plain": [
       "HBox(children=(FloatProgress(value=0.0, max=1740.0), HTML(value='')))"
      ]
     },
     "metadata": {},
     "output_type": "display_data"
    },
    {
     "name": "stdout",
     "output_type": "stream",
     "text": [
      "\n"
     ]
    }
   ],
   "source": [
    "df['elliptical_rate'] = df.text.progress_apply(parse)"
   ]
  },
  {
   "cell_type": "code",
   "execution_count": 17,
   "metadata": {},
   "outputs": [],
   "source": [
    "df.to_csv('cleaned_dataset_science_pt1_ellipse.csv', index=False)"
   ]
  },
  {
   "cell_type": "code",
   "execution_count": 1,
   "metadata": {},
   "outputs": [],
   "source": [
    "import pandas as pd\n",
    "\n",
    "df = pd.read_csv('cleaned_dataset_science_pt1_ellipse.csv')"
   ]
  },
  {
   "cell_type": "code",
   "execution_count": 3,
   "metadata": {},
   "outputs": [
    {
     "data": {
      "text/plain": [
       "1740"
      ]
     },
     "execution_count": 3,
     "metadata": {},
     "output_type": "execute_result"
    }
   ],
   "source": [
    "len(df)"
   ]
  },
  {
   "cell_type": "code",
   "execution_count": 2,
   "metadata": {},
   "outputs": [
    {
     "data": {
      "text/html": [
       "<div>\n",
       "<style scoped>\n",
       "    .dataframe tbody tr th:only-of-type {\n",
       "        vertical-align: middle;\n",
       "    }\n",
       "\n",
       "    .dataframe tbody tr th {\n",
       "        vertical-align: top;\n",
       "    }\n",
       "\n",
       "    .dataframe thead th {\n",
       "        text-align: right;\n",
       "    }\n",
       "</style>\n",
       "<table border=\"1\" class=\"dataframe\">\n",
       "  <thead>\n",
       "    <tr style=\"text-align: right;\">\n",
       "      <th></th>\n",
       "      <th>text</th>\n",
       "      <th>contracted</th>\n",
       "      <th>count_contr</th>\n",
       "      <th>elliptical_rate</th>\n",
       "    </tr>\n",
       "  </thead>\n",
       "  <tbody>\n",
       "    <tr>\n",
       "      <th>26</th>\n",
       "      <td>From the perspective of causal inference, ther...</td>\n",
       "      <td>[\"can't\"]</td>\n",
       "      <td>0.000008</td>\n",
       "      <td>0.000008</td>\n",
       "    </tr>\n",
       "    <tr>\n",
       "      <th>88</th>\n",
       "      <td>The primary functions of the alimentary tract ...</td>\n",
       "      <td>['and so on', ' corona ', ' corona ', ' Corona...</td>\n",
       "      <td>0.000019</td>\n",
       "      <td>0.000008</td>\n",
       "    </tr>\n",
       "    <tr>\n",
       "      <th>103</th>\n",
       "      <td>Introduction In humans, progesterone secreted ...</td>\n",
       "      <td>['and so on']</td>\n",
       "      <td>0.000008</td>\n",
       "      <td>0.000008</td>\n",
       "    </tr>\n",
       "    <tr>\n",
       "      <th>110</th>\n",
       "      <td>The humoral pattern recognition receptors of i...</td>\n",
       "      <td>[\"haven't\", \"isn't\"]</td>\n",
       "      <td>0.000014</td>\n",
       "      <td>0.000007</td>\n",
       "    </tr>\n",
       "    <tr>\n",
       "      <th>192</th>\n",
       "      <td>** Each poster has been given a unique number ...</td>\n",
       "      <td>[\"haven't\", \"haven't\", \"haven't\"]</td>\n",
       "      <td>0.000013</td>\n",
       "      <td>0.000009</td>\n",
       "    </tr>\n",
       "    <tr>\n",
       "      <th>...</th>\n",
       "      <td>...</td>\n",
       "      <td>...</td>\n",
       "      <td>...</td>\n",
       "      <td>...</td>\n",
       "    </tr>\n",
       "    <tr>\n",
       "      <th>1603</th>\n",
       "      <td>Pharmacy, Sint Maartenskliniek, Ubbergen, 2 Ph...</td>\n",
       "      <td>[\"aren't\", \"can't\", \"can't\", \"hasn't\", \"hasn't...</td>\n",
       "      <td>0.000068</td>\n",
       "      <td>0.000010</td>\n",
       "    </tr>\n",
       "    <tr>\n",
       "      <th>1637</th>\n",
       "      <td>Application of bacteriophages for biological d...</td>\n",
       "      <td>[\"haven't\", \"haven't\"]</td>\n",
       "      <td>0.000020</td>\n",
       "      <td>0.000010</td>\n",
       "    </tr>\n",
       "    <tr>\n",
       "      <th>1662</th>\n",
       "      <td>Introduction Bacterial blood stream infections...</td>\n",
       "      <td>[\"can't\"]</td>\n",
       "      <td>0.000014</td>\n",
       "      <td>0.000014</td>\n",
       "    </tr>\n",
       "    <tr>\n",
       "      <th>1693</th>\n",
       "      <td>From the perspective of causal inference, ther...</td>\n",
       "      <td>[\"can't\"]</td>\n",
       "      <td>0.000008</td>\n",
       "      <td>0.000008</td>\n",
       "    </tr>\n",
       "    <tr>\n",
       "      <th>1738</th>\n",
       "      <td>The Peripheral Nerve Society was founded in 19...</td>\n",
       "      <td>[\"isn't\"]</td>\n",
       "      <td>0.000007</td>\n",
       "      <td>0.000022</td>\n",
       "    </tr>\n",
       "  </tbody>\n",
       "</table>\n",
       "<p>62 rows × 4 columns</p>\n",
       "</div>"
      ],
      "text/plain": [
       "                                                   text  \\\n",
       "26    From the perspective of causal inference, ther...   \n",
       "88    The primary functions of the alimentary tract ...   \n",
       "103   Introduction In humans, progesterone secreted ...   \n",
       "110   The humoral pattern recognition receptors of i...   \n",
       "192   ** Each poster has been given a unique number ...   \n",
       "...                                                 ...   \n",
       "1603  Pharmacy, Sint Maartenskliniek, Ubbergen, 2 Ph...   \n",
       "1637  Application of bacteriophages for biological d...   \n",
       "1662  Introduction Bacterial blood stream infections...   \n",
       "1693  From the perspective of causal inference, ther...   \n",
       "1738  The Peripheral Nerve Society was founded in 19...   \n",
       "\n",
       "                                             contracted  count_contr  \\\n",
       "26                                            [\"can't\"]     0.000008   \n",
       "88    ['and so on', ' corona ', ' corona ', ' Corona...     0.000019   \n",
       "103                                       ['and so on']     0.000008   \n",
       "110                                [\"haven't\", \"isn't\"]     0.000014   \n",
       "192                   [\"haven't\", \"haven't\", \"haven't\"]     0.000013   \n",
       "...                                                 ...          ...   \n",
       "1603  [\"aren't\", \"can't\", \"can't\", \"hasn't\", \"hasn't...     0.000068   \n",
       "1637                             [\"haven't\", \"haven't\"]     0.000020   \n",
       "1662                                          [\"can't\"]     0.000014   \n",
       "1693                                          [\"can't\"]     0.000008   \n",
       "1738                                          [\"isn't\"]     0.000007   \n",
       "\n",
       "      elliptical_rate  \n",
       "26           0.000008  \n",
       "88           0.000008  \n",
       "103          0.000008  \n",
       "110          0.000007  \n",
       "192          0.000009  \n",
       "...               ...  \n",
       "1603         0.000010  \n",
       "1637         0.000010  \n",
       "1662         0.000014  \n",
       "1693         0.000008  \n",
       "1738         0.000022  \n",
       "\n",
       "[62 rows x 4 columns]"
      ]
     },
     "execution_count": 2,
     "metadata": {},
     "output_type": "execute_result"
    }
   ],
   "source": [
    "df[df['elliptical_rate'] >0]"
   ]
  }
 ],
 "metadata": {
  "colab": {
   "name": "Udpipe_R.ipynb",
   "provenance": []
  },
  "kernelspec": {
   "display_name": "Python 3",
   "language": "python",
   "name": "python3"
  },
  "language_info": {
   "codemirror_mode": {
    "name": "ipython",
    "version": 3
   },
   "file_extension": ".py",
   "mimetype": "text/x-python",
   "name": "python",
   "nbconvert_exporter": "python",
   "pygments_lexer": "ipython3",
   "version": "3.6.8"
  },
  "widgets": {
   "application/vnd.jupyter.widget-state+json": {
    "01647314d3e947e987ad23f3fb5dc9bc": {
     "model_module": "@jupyter-widgets/controls",
     "model_name": "ProgressStyleModel",
     "state": {
      "_model_module": "@jupyter-widgets/controls",
      "_model_module_version": "1.5.0",
      "_model_name": "ProgressStyleModel",
      "_view_count": null,
      "_view_module": "@jupyter-widgets/base",
      "_view_module_version": "1.2.0",
      "_view_name": "StyleView",
      "bar_color": null,
      "description_width": "initial"
     }
    },
    "0ffb48d6d8ec42c79d31c0ab840cd5db": {
     "model_module": "@jupyter-widgets/controls",
     "model_name": "HBoxModel",
     "state": {
      "_dom_classes": [],
      "_model_module": "@jupyter-widgets/controls",
      "_model_module_version": "1.5.0",
      "_model_name": "HBoxModel",
      "_view_count": null,
      "_view_module": "@jupyter-widgets/controls",
      "_view_module_version": "1.5.0",
      "_view_name": "HBoxView",
      "box_style": "",
      "children": [
       "IPY_MODEL_ed6013a0a7fb4cd7aff13179a3f612d3",
       "IPY_MODEL_1105035c0968470fb8d069830973d7bd"
      ],
      "layout": "IPY_MODEL_4b0ba86413ab4caa8bc2475885853818"
     }
    },
    "1105035c0968470fb8d069830973d7bd": {
     "model_module": "@jupyter-widgets/controls",
     "model_name": "HTMLModel",
     "state": {
      "_dom_classes": [],
      "_model_module": "@jupyter-widgets/controls",
      "_model_module_version": "1.5.0",
      "_model_name": "HTMLModel",
      "_view_count": null,
      "_view_module": "@jupyter-widgets/controls",
      "_view_module_version": "1.5.0",
      "_view_name": "HTMLView",
      "description": "",
      "description_tooltip": null,
      "layout": "IPY_MODEL_58aea649a44e4a15abe4fed68c0a96b9",
      "placeholder": "​",
      "style": "IPY_MODEL_6c75a3363dd743ba8e433b7a23e17f37",
      "value": " 10/1060 [05:58&lt;19:39:56, 67.43s/it]"
     }
    },
    "4b0ba86413ab4caa8bc2475885853818": {
     "model_module": "@jupyter-widgets/base",
     "model_name": "LayoutModel",
     "state": {
      "_model_module": "@jupyter-widgets/base",
      "_model_module_version": "1.2.0",
      "_model_name": "LayoutModel",
      "_view_count": null,
      "_view_module": "@jupyter-widgets/base",
      "_view_module_version": "1.2.0",
      "_view_name": "LayoutView",
      "align_content": null,
      "align_items": null,
      "align_self": null,
      "border": null,
      "bottom": null,
      "display": null,
      "flex": null,
      "flex_flow": null,
      "grid_area": null,
      "grid_auto_columns": null,
      "grid_auto_flow": null,
      "grid_auto_rows": null,
      "grid_column": null,
      "grid_gap": null,
      "grid_row": null,
      "grid_template_areas": null,
      "grid_template_columns": null,
      "grid_template_rows": null,
      "height": null,
      "justify_content": null,
      "justify_items": null,
      "left": null,
      "margin": null,
      "max_height": null,
      "max_width": null,
      "min_height": null,
      "min_width": null,
      "object_fit": null,
      "object_position": null,
      "order": null,
      "overflow": null,
      "overflow_x": null,
      "overflow_y": null,
      "padding": null,
      "right": null,
      "top": null,
      "visibility": null,
      "width": null
     }
    },
    "58aea649a44e4a15abe4fed68c0a96b9": {
     "model_module": "@jupyter-widgets/base",
     "model_name": "LayoutModel",
     "state": {
      "_model_module": "@jupyter-widgets/base",
      "_model_module_version": "1.2.0",
      "_model_name": "LayoutModel",
      "_view_count": null,
      "_view_module": "@jupyter-widgets/base",
      "_view_module_version": "1.2.0",
      "_view_name": "LayoutView",
      "align_content": null,
      "align_items": null,
      "align_self": null,
      "border": null,
      "bottom": null,
      "display": null,
      "flex": null,
      "flex_flow": null,
      "grid_area": null,
      "grid_auto_columns": null,
      "grid_auto_flow": null,
      "grid_auto_rows": null,
      "grid_column": null,
      "grid_gap": null,
      "grid_row": null,
      "grid_template_areas": null,
      "grid_template_columns": null,
      "grid_template_rows": null,
      "height": null,
      "justify_content": null,
      "justify_items": null,
      "left": null,
      "margin": null,
      "max_height": null,
      "max_width": null,
      "min_height": null,
      "min_width": null,
      "object_fit": null,
      "object_position": null,
      "order": null,
      "overflow": null,
      "overflow_x": null,
      "overflow_y": null,
      "padding": null,
      "right": null,
      "top": null,
      "visibility": null,
      "width": null
     }
    },
    "5f3863c6e3614bdcaac9337236172c86": {
     "model_module": "@jupyter-widgets/base",
     "model_name": "LayoutModel",
     "state": {
      "_model_module": "@jupyter-widgets/base",
      "_model_module_version": "1.2.0",
      "_model_name": "LayoutModel",
      "_view_count": null,
      "_view_module": "@jupyter-widgets/base",
      "_view_module_version": "1.2.0",
      "_view_name": "LayoutView",
      "align_content": null,
      "align_items": null,
      "align_self": null,
      "border": null,
      "bottom": null,
      "display": null,
      "flex": null,
      "flex_flow": null,
      "grid_area": null,
      "grid_auto_columns": null,
      "grid_auto_flow": null,
      "grid_auto_rows": null,
      "grid_column": null,
      "grid_gap": null,
      "grid_row": null,
      "grid_template_areas": null,
      "grid_template_columns": null,
      "grid_template_rows": null,
      "height": null,
      "justify_content": null,
      "justify_items": null,
      "left": null,
      "margin": null,
      "max_height": null,
      "max_width": null,
      "min_height": null,
      "min_width": null,
      "object_fit": null,
      "object_position": null,
      "order": null,
      "overflow": null,
      "overflow_x": null,
      "overflow_y": null,
      "padding": null,
      "right": null,
      "top": null,
      "visibility": null,
      "width": null
     }
    },
    "6c75a3363dd743ba8e433b7a23e17f37": {
     "model_module": "@jupyter-widgets/controls",
     "model_name": "DescriptionStyleModel",
     "state": {
      "_model_module": "@jupyter-widgets/controls",
      "_model_module_version": "1.5.0",
      "_model_name": "DescriptionStyleModel",
      "_view_count": null,
      "_view_module": "@jupyter-widgets/base",
      "_view_module_version": "1.2.0",
      "_view_name": "StyleView",
      "description_width": ""
     }
    },
    "ed6013a0a7fb4cd7aff13179a3f612d3": {
     "model_module": "@jupyter-widgets/controls",
     "model_name": "FloatProgressModel",
     "state": {
      "_dom_classes": [],
      "_model_module": "@jupyter-widgets/controls",
      "_model_module_version": "1.5.0",
      "_model_name": "FloatProgressModel",
      "_view_count": null,
      "_view_module": "@jupyter-widgets/controls",
      "_view_module_version": "1.5.0",
      "_view_name": "ProgressView",
      "bar_style": "",
      "description": "  1%",
      "description_tooltip": null,
      "layout": "IPY_MODEL_5f3863c6e3614bdcaac9337236172c86",
      "max": 1060,
      "min": 0,
      "orientation": "horizontal",
      "style": "IPY_MODEL_01647314d3e947e987ad23f3fb5dc9bc",
      "value": 10
     }
    }
   }
  }
 },
 "nbformat": 4,
 "nbformat_minor": 1
}
